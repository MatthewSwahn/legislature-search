{
 "cells": [
  {
   "cell_type": "code",
   "execution_count": 2,
   "id": "37554e6a",
   "metadata": {},
   "outputs": [],
   "source": [
    "import pandas as pd"
   ]
  },
  {
   "cell_type": "code",
   "execution_count": 7,
   "id": "7296b221",
   "metadata": {},
   "outputs": [
    {
     "name": "stdout",
     "output_type": "stream",
     "text": [
      "<class 'pandas.core.frame.DataFrame'>\n",
      "Index: 860 entries, 0 to 859\n",
      "Data columns (total 19 columns):\n",
      " #   Column                        Non-Null Count  Dtype  \n",
      "---  ------                        --------------  -----  \n",
      " 0   level                         860 non-null    object \n",
      " 1   clause_id                     860 non-null    object \n",
      " 2   subclause_id                  0 non-null      float64\n",
      " 3   subparagraph_id               823 non-null    object \n",
      " 4   paragraph_id                  836 non-null    object \n",
      " 5   subsection_id                 803 non-null    object \n",
      " 6   section_id                    860 non-null    object \n",
      " 7   quoted_block_subclause_id     0 non-null      float64\n",
      " 8   quoted_block_subparagraph_id  802 non-null    object \n",
      " 9   quoted_block_paragraph_id     715 non-null    object \n",
      " 10  quoted_block_subsection_id    447 non-null    object \n",
      " 11  quoted_block_section_id       331 non-null    object \n",
      " 12  quoted_block_id               601 non-null    object \n",
      " 13  quoted_block_path             601 non-null    object \n",
      " 14  path                          860 non-null    object \n",
      " 15  text                          860 non-null    object \n",
      " 16  num_spm_tokens_by_subpara     860 non-null    int64  \n",
      " 17  max_token_ind                 860 non-null    int64  \n",
      " 18  lt_30_token_ind               860 non-null    int64  \n",
      "dtypes: float64(2), int64(3), object(14)\n",
      "memory usage: 134.4+ KB\n",
      "None\n"
     ]
    }
   ],
   "source": [
    "bbb_df = pd.read_json('bbb_df_by_subpara_v3.json')\n",
    "print(bbb_df.info())"
   ]
  },
  {
   "cell_type": "code",
   "execution_count": 9,
   "id": "8c90920e",
   "metadata": {},
   "outputs": [
    {
     "name": "stdout",
     "output_type": "stream",
     "text": [
      "<class 'pandas.core.frame.DataFrame'>\n",
      "Index: 762 entries, 0 to 859\n",
      "Data columns (total 19 columns):\n",
      " #   Column                        Non-Null Count  Dtype  \n",
      "---  ------                        --------------  -----  \n",
      " 0   level                         762 non-null    object \n",
      " 1   clause_id                     762 non-null    object \n",
      " 2   subclause_id                  0 non-null      float64\n",
      " 3   subparagraph_id               734 non-null    object \n",
      " 4   paragraph_id                  743 non-null    object \n",
      " 5   subsection_id                 715 non-null    object \n",
      " 6   section_id                    762 non-null    object \n",
      " 7   quoted_block_subclause_id     0 non-null      float64\n",
      " 8   quoted_block_subparagraph_id  715 non-null    object \n",
      " 9   quoted_block_paragraph_id     641 non-null    object \n",
      " 10  quoted_block_subsection_id    409 non-null    object \n",
      " 11  quoted_block_section_id       316 non-null    object \n",
      " 12  quoted_block_id               516 non-null    object \n",
      " 13  quoted_block_path             516 non-null    object \n",
      " 14  path                          762 non-null    object \n",
      " 15  text                          762 non-null    object \n",
      " 16  num_spm_tokens_by_subpara     762 non-null    int64  \n",
      " 17  max_token_ind                 762 non-null    int64  \n",
      " 18  lt_30_token_ind               762 non-null    int64  \n",
      "dtypes: float64(2), int64(3), object(14)\n",
      "memory usage: 119.1+ KB\n",
      "None\n"
     ]
    }
   ],
   "source": [
    "bbb_lt100_df = bbb_df[bbb_df.num_spm_tokens_by_subpara<100].copy()\n",
    "print(bbb_lt100_df.info())"
   ]
  },
  {
   "cell_type": "code",
   "execution_count": 11,
   "id": "9785276b",
   "metadata": {},
   "outputs": [],
   "source": [
    "bbb_lt100_df[['path','text']].to_csv('lt 100 token text.csv')"
   ]
  },
  {
   "cell_type": "code",
   "execution_count": 13,
   "id": "3542b389",
   "metadata": {},
   "outputs": [],
   "source": [
    "\n",
    "bbb_df[['path','text']].to_csv('parser v2 token text.csv')"
   ]
  },
  {
   "cell_type": "code",
   "execution_count": null,
   "id": "a29dd8a0",
   "metadata": {},
   "outputs": [],
   "source": []
  }
 ],
 "metadata": {
  "kernelspec": {
   "display_name": "Python 3",
   "language": "python",
   "name": "python3"
  },
  "language_info": {
   "codemirror_mode": {
    "name": "ipython",
    "version": 3
   },
   "file_extension": ".py",
   "mimetype": "text/x-python",
   "name": "python",
   "nbconvert_exporter": "python",
   "pygments_lexer": "ipython3",
   "version": "3.12.11"
  }
 },
 "nbformat": 4,
 "nbformat_minor": 5
}
